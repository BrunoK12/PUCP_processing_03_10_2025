{
 "cells": [
  {
   "cell_type": "markdown",
   "id": "d54017b4-ff25-4a83-8662-f315303ec225",
   "metadata": {},
   "source": [
    "## REDUCING THE DATA AND RESCALING THE TIME"
   ]
  },
  {
   "cell_type": "code",
   "execution_count": 3,
   "id": "7e383697-5f1e-48ff-929b-4ff22f379526",
   "metadata": {},
   "outputs": [
    {
     "name": "stderr",
     "output_type": "stream",
     "text": [
      "Procesando DataFrames: 100%|██████████████████████████████████████████████| 100000/100000 [00:00<00:00, 2020445.78it/s]\n"
     ]
    }
   ],
   "source": [
    "import pickle\n",
    "import pandas as pd\n",
    "import os\n",
    "from tqdm import tqdm\n",
    "\n",
    "ruta_pickle = r\"C:\\Users\\Bruno Diaz\\OneDrive\\Escritorio\\TAMBO\\CORSIKA DATA\\100k Showers\\PURE_DATA_oct24_100k.pickle\"\n",
    "with open(ruta_pickle, 'rb') as f:\n",
    "    pure_data = pickle.load(f)\n",
    "for dic, df in tqdm(pure_data, desc=\"Procesando DataFrames\"):\n",
    "    pass"
   ]
  },
  {
   "cell_type": "code",
   "execution_count": 5,
   "id": "9061e6ce-37ca-4025-a7c0-65edcc5898a5",
   "metadata": {},
   "outputs": [
    {
     "name": "stdout",
     "output_type": "stream",
     "text": [
      "Archivo pickle reducido guardado en: C:\\Users\\Bruno Diaz\\OneDrive\\Escritorio\\PURE_DATA_reduced_NEW100K.pickle\n",
      "Lista reduced_pure_data creada con tuplas (dic, reduced_df)\n"
     ]
    }
   ],
   "source": [
    "ruta_pickle_reduced =  r\"C:\\Users\\Bruno Diaz\\OneDrive\\Escritorio\\PURE_DATA_reduced_NEW100K.pickle\"\n",
    "if os.path.exists(ruta_pickle_reduced):\n",
    "    os.remove(ruta_pickle_reduced)\n",
    "    \n",
    "reduced_pure_data = [\n",
    "    (dic, df.drop(['px','py','pz','w','lev','detector'], axis=1, errors='ignore'))\n",
    "    for dic, df in pure_data\n",
    "]\n",
    "\n",
    "with open(ruta_pickle_reduced, 'wb') as f:\n",
    "    pickle.dump(reduced_pure_data, f)\n",
    "\n",
    "print(\"Archivo pickle reducido guardado en:\", ruta_pickle_reduced)\n",
    "print(\"Lista reduced_pure_data creada con tuplas (dic, reduced_df)\")"
   ]
  },
  {
   "cell_type": "code",
   "execution_count": 3,
   "id": "7a24b6a7-c565-4b9a-b440-ce3d2dfca8d7",
   "metadata": {},
   "outputs": [
    {
     "name": "stderr",
     "output_type": "stream",
     "text": [
      "Procesando DataFrames: 100%|██████████████████████████████████████████████| 102064/102064 [00:00<00:00, 1891497.26it/s]\n"
     ]
    }
   ],
   "source": [
    "import pickle\n",
    "import pandas as pd\n",
    "import os\n",
    "from tqdm import tqdm\n",
    "\n",
    "ruta_pickle=  r\"C:\\Users\\Bruno Diaz\\OneDrive\\Escritorio\\TAMBO\\CORSIKA DATA\\PURE_DATA_reduced_NEW100K.pickle\"\n",
    "with open(ruta_pickle, 'rb') as f:\n",
    "    reduced_pd = pickle.load(f)\n",
    "for dic, df in tqdm(reduced_pd, desc=\"Procesando DataFrames\"):\n",
    "    pass"
   ]
  },
  {
   "cell_type": "code",
   "execution_count": 21,
   "id": "7e527a8c-931c-4b71-9814-be86fba892e2",
   "metadata": {},
   "outputs": [
    {
     "data": {
      "text/html": [
       "<div>\n",
       "<style scoped>\n",
       "    .dataframe tbody tr th:only-of-type {\n",
       "        vertical-align: middle;\n",
       "    }\n",
       "\n",
       "    .dataframe tbody tr th {\n",
       "        vertical-align: top;\n",
       "    }\n",
       "\n",
       "    .dataframe thead th {\n",
       "        text-align: right;\n",
       "    }\n",
       "</style>\n",
       "<table border=\"1\" class=\"dataframe\">\n",
       "  <thead>\n",
       "    <tr style=\"text-align: right;\">\n",
       "      <th></th>\n",
       "      <th>id</th>\n",
       "      <th>x</th>\n",
       "      <th>y</th>\n",
       "      <th>t</th>\n",
       "      <th>ek</th>\n",
       "    </tr>\n",
       "  </thead>\n",
       "  <tbody>\n",
       "    <tr>\n",
       "      <th>0</th>\n",
       "      <td>5</td>\n",
       "      <td>35.48760</td>\n",
       "      <td>16.204100</td>\n",
       "      <td>70.3</td>\n",
       "      <td>133.025000</td>\n",
       "    </tr>\n",
       "    <tr>\n",
       "      <th>1</th>\n",
       "      <td>6</td>\n",
       "      <td>-29.53980</td>\n",
       "      <td>-37.624300</td>\n",
       "      <td>215.5</td>\n",
       "      <td>5.886190</td>\n",
       "    </tr>\n",
       "    <tr>\n",
       "      <th>2</th>\n",
       "      <td>6</td>\n",
       "      <td>54.46950</td>\n",
       "      <td>25.618500</td>\n",
       "      <td>42.0</td>\n",
       "      <td>3.973990</td>\n",
       "    </tr>\n",
       "    <tr>\n",
       "      <th>3</th>\n",
       "      <td>5</td>\n",
       "      <td>19.62950</td>\n",
       "      <td>62.897000</td>\n",
       "      <td>112.9</td>\n",
       "      <td>31.889400</td>\n",
       "    </tr>\n",
       "    <tr>\n",
       "      <th>4</th>\n",
       "      <td>5</td>\n",
       "      <td>47.41770</td>\n",
       "      <td>-4.047540</td>\n",
       "      <td>42.8</td>\n",
       "      <td>15.559300</td>\n",
       "    </tr>\n",
       "    <tr>\n",
       "      <th>5</th>\n",
       "      <td>5</td>\n",
       "      <td>12.23220</td>\n",
       "      <td>-41.536300</td>\n",
       "      <td>114.3</td>\n",
       "      <td>112.075000</td>\n",
       "    </tr>\n",
       "    <tr>\n",
       "      <th>6</th>\n",
       "      <td>5</td>\n",
       "      <td>66.50300</td>\n",
       "      <td>55.028100</td>\n",
       "      <td>7.1</td>\n",
       "      <td>104.515000</td>\n",
       "    </tr>\n",
       "    <tr>\n",
       "      <th>7</th>\n",
       "      <td>6</td>\n",
       "      <td>-39.15190</td>\n",
       "      <td>18.125500</td>\n",
       "      <td>236.9</td>\n",
       "      <td>119.513000</td>\n",
       "    </tr>\n",
       "    <tr>\n",
       "      <th>8</th>\n",
       "      <td>1</td>\n",
       "      <td>-34.09230</td>\n",
       "      <td>-25.351400</td>\n",
       "      <td>223.1</td>\n",
       "      <td>0.003726</td>\n",
       "    </tr>\n",
       "    <tr>\n",
       "      <th>9</th>\n",
       "      <td>1</td>\n",
       "      <td>11.56130</td>\n",
       "      <td>-15.138600</td>\n",
       "      <td>150.0</td>\n",
       "      <td>0.045044</td>\n",
       "    </tr>\n",
       "    <tr>\n",
       "      <th>10</th>\n",
       "      <td>5</td>\n",
       "      <td>-45.61220</td>\n",
       "      <td>0.133943</td>\n",
       "      <td>248.9</td>\n",
       "      <td>63.160400</td>\n",
       "    </tr>\n",
       "    <tr>\n",
       "      <th>11</th>\n",
       "      <td>6</td>\n",
       "      <td>1.75383</td>\n",
       "      <td>23.496700</td>\n",
       "      <td>146.6</td>\n",
       "      <td>60.153900</td>\n",
       "    </tr>\n",
       "    <tr>\n",
       "      <th>12</th>\n",
       "      <td>5</td>\n",
       "      <td>-27.10980</td>\n",
       "      <td>-39.467900</td>\n",
       "      <td>399.8</td>\n",
       "      <td>0.410897</td>\n",
       "    </tr>\n",
       "    <tr>\n",
       "      <th>13</th>\n",
       "      <td>6</td>\n",
       "      <td>29.06340</td>\n",
       "      <td>30.507300</td>\n",
       "      <td>88.2</td>\n",
       "      <td>13.106300</td>\n",
       "    </tr>\n",
       "    <tr>\n",
       "      <th>14</th>\n",
       "      <td>3</td>\n",
       "      <td>-7.66926</td>\n",
       "      <td>-63.651200</td>\n",
       "      <td>210.1</td>\n",
       "      <td>0.003792</td>\n",
       "    </tr>\n",
       "    <tr>\n",
       "      <th>15</th>\n",
       "      <td>1</td>\n",
       "      <td>-7.15071</td>\n",
       "      <td>-63.653500</td>\n",
       "      <td>208.8</td>\n",
       "      <td>0.005605</td>\n",
       "    </tr>\n",
       "    <tr>\n",
       "      <th>16</th>\n",
       "      <td>6</td>\n",
       "      <td>10.14810</td>\n",
       "      <td>4.169970</td>\n",
       "      <td>125.0</td>\n",
       "      <td>680.936000</td>\n",
       "    </tr>\n",
       "    <tr>\n",
       "      <th>17</th>\n",
       "      <td>6</td>\n",
       "      <td>-14.73620</td>\n",
       "      <td>-21.804700</td>\n",
       "      <td>177.0</td>\n",
       "      <td>108.524000</td>\n",
       "    </tr>\n",
       "    <tr>\n",
       "      <th>18</th>\n",
       "      <td>6</td>\n",
       "      <td>3.04313</td>\n",
       "      <td>1.968850</td>\n",
       "      <td>140.5</td>\n",
       "      <td>437.847000</td>\n",
       "    </tr>\n",
       "    <tr>\n",
       "      <th>19</th>\n",
       "      <td>1</td>\n",
       "      <td>-2.15743</td>\n",
       "      <td>13.472500</td>\n",
       "      <td>154.2</td>\n",
       "      <td>0.007633</td>\n",
       "    </tr>\n",
       "    <tr>\n",
       "      <th>20</th>\n",
       "      <td>1</td>\n",
       "      <td>-45.27400</td>\n",
       "      <td>-32.535400</td>\n",
       "      <td>253.6</td>\n",
       "      <td>0.010582</td>\n",
       "    </tr>\n",
       "    <tr>\n",
       "      <th>21</th>\n",
       "      <td>1</td>\n",
       "      <td>-4.14289</td>\n",
       "      <td>12.784600</td>\n",
       "      <td>158.5</td>\n",
       "      <td>0.009390</td>\n",
       "    </tr>\n",
       "    <tr>\n",
       "      <th>22</th>\n",
       "      <td>5</td>\n",
       "      <td>-16.54450</td>\n",
       "      <td>-10.632600</td>\n",
       "      <td>182.4</td>\n",
       "      <td>337.961000</td>\n",
       "    </tr>\n",
       "    <tr>\n",
       "      <th>23</th>\n",
       "      <td>6</td>\n",
       "      <td>36.98410</td>\n",
       "      <td>47.449600</td>\n",
       "      <td>71.8</td>\n",
       "      <td>46.079000</td>\n",
       "    </tr>\n",
       "    <tr>\n",
       "      <th>24</th>\n",
       "      <td>5</td>\n",
       "      <td>35.44140</td>\n",
       "      <td>44.535300</td>\n",
       "      <td>74.8</td>\n",
       "      <td>44.149400</td>\n",
       "    </tr>\n",
       "    <tr>\n",
       "      <th>25</th>\n",
       "      <td>6</td>\n",
       "      <td>53.97530</td>\n",
       "      <td>-19.966100</td>\n",
       "      <td>24.3</td>\n",
       "      <td>84.774600</td>\n",
       "    </tr>\n",
       "    <tr>\n",
       "      <th>26</th>\n",
       "      <td>5</td>\n",
       "      <td>62.86670</td>\n",
       "      <td>-56.210500</td>\n",
       "      <td>0.0</td>\n",
       "      <td>39.247700</td>\n",
       "    </tr>\n",
       "    <tr>\n",
       "      <th>27</th>\n",
       "      <td>6</td>\n",
       "      <td>1.87163</td>\n",
       "      <td>-6.108130</td>\n",
       "      <td>142.1</td>\n",
       "      <td>70.466500</td>\n",
       "    </tr>\n",
       "  </tbody>\n",
       "</table>\n",
       "</div>"
      ],
      "text/plain": [
       "    id         x          y      t          ek\n",
       "0    5  35.48760  16.204100   70.3  133.025000\n",
       "1    6 -29.53980 -37.624300  215.5    5.886190\n",
       "2    6  54.46950  25.618500   42.0    3.973990\n",
       "3    5  19.62950  62.897000  112.9   31.889400\n",
       "4    5  47.41770  -4.047540   42.8   15.559300\n",
       "5    5  12.23220 -41.536300  114.3  112.075000\n",
       "6    5  66.50300  55.028100    7.1  104.515000\n",
       "7    6 -39.15190  18.125500  236.9  119.513000\n",
       "8    1 -34.09230 -25.351400  223.1    0.003726\n",
       "9    1  11.56130 -15.138600  150.0    0.045044\n",
       "10   5 -45.61220   0.133943  248.9   63.160400\n",
       "11   6   1.75383  23.496700  146.6   60.153900\n",
       "12   5 -27.10980 -39.467900  399.8    0.410897\n",
       "13   6  29.06340  30.507300   88.2   13.106300\n",
       "14   3  -7.66926 -63.651200  210.1    0.003792\n",
       "15   1  -7.15071 -63.653500  208.8    0.005605\n",
       "16   6  10.14810   4.169970  125.0  680.936000\n",
       "17   6 -14.73620 -21.804700  177.0  108.524000\n",
       "18   6   3.04313   1.968850  140.5  437.847000\n",
       "19   1  -2.15743  13.472500  154.2    0.007633\n",
       "20   1 -45.27400 -32.535400  253.6    0.010582\n",
       "21   1  -4.14289  12.784600  158.5    0.009390\n",
       "22   5 -16.54450 -10.632600  182.4  337.961000\n",
       "23   6  36.98410  47.449600   71.8   46.079000\n",
       "24   5  35.44140  44.535300   74.8   44.149400\n",
       "25   6  53.97530 -19.966100   24.3   84.774600\n",
       "26   5  62.86670 -56.210500    0.0   39.247700\n",
       "27   6   1.87163  -6.108130  142.1   70.466500"
      ]
     },
     "execution_count": 21,
     "metadata": {},
     "output_type": "execute_result"
    }
   ],
   "source": [
    "reduced_pd[0][1]"
   ]
  },
  {
   "cell_type": "code",
   "execution_count": 13,
   "id": "393293b8-c856-41c6-a299-2dd414966323",
   "metadata": {},
   "outputs": [
    {
     "name": "stderr",
     "output_type": "stream",
     "text": [
      "Procesando DataFrames: 100%|██████████████████████████████████████████████| 102064/102064 [00:00<00:00, 1691690.85it/s]\n"
     ]
    }
   ],
   "source": [
    "for _,df in reduced_pd:\n",
    "    df['t'] = df['t']-df['t'].min()\n",
    "for dic, df in tqdm(reduced_pd, desc=\"Procesando DataFrames\"):\n",
    "    pass"
   ]
  },
  {
   "cell_type": "code",
   "execution_count": 17,
   "id": "08de489e-57a7-4503-bbb0-e9ba9956e275",
   "metadata": {},
   "outputs": [
    {
     "name": "stdout",
     "output_type": "stream",
     "text": [
      "Archivo pickle reducido guardado en: C:\\Users\\Bruno Diaz\\OneDrive\\Escritorio\\TAMBO\\CORSIKA DATA\\PURE_DATA_reduced_NEW100K.pickle\n"
     ]
    }
   ],
   "source": [
    "ruta_pickle_reduced =  r\"C:\\Users\\Bruno Diaz\\OneDrive\\Escritorio\\TAMBO\\CORSIKA DATA\\PURE_DATA_reduced_NEW100K.pickle\"\n",
    "\n",
    "if os.path.exists(ruta_pickle_reduced):\n",
    "    os.remove(ruta_pickle_reduced)\n",
    "\n",
    "with open(ruta_pickle_reduced, 'wb') as f:\n",
    "    pickle.dump(reduced_pd, f)\n",
    "\n",
    "print(\"Archivo pickle reducido guardado en:\", ruta_pickle_reduced)"
   ]
  },
  {
   "cell_type": "markdown",
   "id": "f000f2c4-8fc5-4722-9f9e-7822795684ca",
   "metadata": {},
   "source": [
    "## REDUCED PURE DATA"
   ]
  },
  {
   "cell_type": "code",
   "execution_count": 1,
   "id": "b1bfa0cd-250b-4192-8d6a-46e0573614b1",
   "metadata": {},
   "outputs": [
    {
     "name": "stderr",
     "output_type": "stream",
     "text": [
      "Procesando DataFrames: 100%|███████████████████████████████████████████████| 100000/100000 [00:00<00:00, 999903.21it/s]\n"
     ]
    }
   ],
   "source": [
    "import pickle\n",
    "import pandas as pd\n",
    "import os\n",
    "from tqdm import tqdm\n",
    "\n",
    "ruta_pickle=  r\"C:\\Users\\Bruno Diaz\\OneDrive\\Escritorio\\TAMBO\\TI\\CORSIKA DATA\\100k Showers\\PURE_DATA_reduced_oct24_100k.pickle\"\n",
    "with open(ruta_pickle, 'rb') as f:\n",
    "    reduced_pd = pickle.load(f)\n",
    "for dic, df in tqdm(reduced_pd, desc=\"Procesando DataFrames\"):\n",
    "    pass"
   ]
  },
  {
   "cell_type": "code",
   "execution_count": 3,
   "id": "87d35761-c5bc-4df5-b78a-a079f39e81e2",
   "metadata": {},
   "outputs": [
    {
     "data": {
      "text/plain": [
       "({'PRMPAR': 14, 'PRME': 14943.6, 'THETAP': 0.721208, 'PHIP': 1.51573},\n",
       "     id          x         y      t           ek\n",
       " 0    5   9.629640 -40.70440   61.9   155.962000\n",
       " 1    1 -55.063200  -8.68151  143.5     0.012456\n",
       " 2    3 -24.506200  31.16940  219.1     0.029365\n",
       " 3    1 -38.824100  42.86240  242.5     0.010711\n",
       " 4    5  23.336300  14.50680  185.1    62.429400\n",
       " ..  ..        ...       ...    ...          ...\n",
       " 69   6 -33.481800 -59.25710   16.2    47.516100\n",
       " 70   6  18.786800 -36.14900   73.1   118.390000\n",
       " 71   5  18.237500 -42.73670   58.6    83.349300\n",
       " 72   6  30.085300 -14.60640  121.8   207.109000\n",
       " 73   5   0.222438  -2.48787  144.7  1539.820000\n",
       " \n",
       " [74 rows x 5 columns])"
      ]
     },
     "execution_count": 3,
     "metadata": {},
     "output_type": "execute_result"
    }
   ],
   "source": [
    "reduced_pd[10]"
   ]
  },
  {
   "cell_type": "code",
   "execution_count": 5,
   "id": "b29d33aa-9fcb-4f8d-89d2-24b6242c4502",
   "metadata": {},
   "outputs": [
    {
     "name": "stdout",
     "output_type": "stream",
     "text": [
      "Done\n"
     ]
    }
   ],
   "source": [
    "ek_sum = [df['ek'].sum() for _,df in reduced_pd]\n",
    "print(\"Done\")"
   ]
  },
  {
   "cell_type": "code",
   "execution_count": 7,
   "id": "25aef837-81dd-4591-96ff-0d63459a8f2e",
   "metadata": {},
   "outputs": [
    {
     "name": "stdout",
     "output_type": "stream",
     "text": [
      "Done\n"
     ]
    }
   ],
   "source": [
    "PRME = [dic['PRME'] for dic,_ in reduced_pd]\n",
    "print(\"Done\")"
   ]
  },
  {
   "cell_type": "code",
   "execution_count": 64,
   "id": "1baa5894-84c2-44c8-98d7-1679a2ec1316",
   "metadata": {},
   "outputs": [
    {
     "name": "stdout",
     "output_type": "stream",
     "text": [
      "Índices con DataFrames vacíos: [24437, 25419, 26064, 65585, 83720, 86249, 95808]\n"
     ]
    }
   ],
   "source": [
    "empty_indices = [i for i, (dic, df) in enumerate(reduced_pd) if df.empty]\n",
    "print(\"Índices con DataFrames vacíos:\", empty_indices)"
   ]
  },
  {
   "cell_type": "code",
   "execution_count": 76,
   "id": "39fb0f34-c3b0-457e-a687-2466b56c2ee2",
   "metadata": {},
   "outputs": [
    {
     "data": {
      "image/png": "[encoded data removed]",
      "text/plain": [
       "<Figure size 800x500 with 1 Axes>"
      ]
     },
     "metadata": {},
     "output_type": "display_data"
    }
   ],
   "source": [
    "import matplotlib.pyplot as plt\n",
    "import numpy as np\n",
    "\n",
    "plt.figure(figsize=(8,5))\n",
    "plt.scatter(ek_sum, PRME)\n",
    "plt.plot(np.linspace(4,5,20),np.linspace(4,5,20))\n",
    "\n",
    "plt.grid(True)\n",
    "plt.show()"
   ]
  },
  {
   "cell_type": "code",
   "execution_count": 74,
   "id": "0e476b97-abbb-4390-a1ee-ec04bdab0bd5",
   "metadata": {},
   "outputs": [
    {
     "data": {
      "image/png": "[encoded data removed]",
      "text/plain": [
       "<Figure size 800x600 with 2 Axes>"
      ]
     },
     "metadata": {},
     "output_type": "display_data"
    }
   ],
   "source": [
    "x_bins = np.linspace(0,40000, 80)\n",
    "y_bins = np.linspace(10000,100000, 80)\n",
    "H, xedges, yedges = np.histogram2d(ek_sum, PRME, bins=[x_bins, y_bins])\n",
    "H[H == 0] = np.nan\n",
    "H = np.log10(H)\n",
    "\n",
    "plt.figure(figsize=(8,6))\n",
    "plt.imshow(H.T, origin='lower',\n",
    "           extent=[xedges[0], xedges[-1], yedges[0], yedges[-1]],\n",
    "           cmap='viridis', aspect='auto')\n",
    "plt.colorbar(label='Density of Cases')\n",
    "plt.plot(np.linspace(10000,40000,20),np.linspace(10000,40000,20))\n",
    "plt.xlabel(\"ek_sum\")\n",
    "plt.ylabel(\"PRME\")\n",
    "plt.title(\"Energy Conservation\")\n",
    "plt.tight_layout()\n",
    "plt.show()"
   ]
  },
  {
   "cell_type": "code",
   "execution_count": 39,
   "id": "7e0500e6-791a-4500-bca9-21d7719070c9",
   "metadata": {},
   "outputs": [
    {
     "data": {
      "image/png": "[encoded data removed]",
      "text/plain": [
       "<Figure size 640x480 with 1 Axes>"
      ]
     },
     "metadata": {},
     "output_type": "display_data"
    }
   ],
   "source": [
    "import matplotlib.pyplot as plt\n",
    "import numpy as np\n",
    "\n",
    "n_part = [len(df) for _,df in reduced_pd]\n",
    "plt.hist(n_part,bins=100)\n",
    "plt.yscale('log')\n",
    "plt.show()"
   ]
  },
  {
   "cell_type": "code",
   "execution_count": 45,
   "id": "302071f1-9147-4e92-afde-8d7616bf3861",
   "metadata": {},
   "outputs": [
    {
     "data": {
      "text/plain": [
       "76743"
      ]
     },
     "execution_count": 45,
     "metadata": {},
     "output_type": "execute_result"
    }
   ],
   "source": [
    "len(PD_MODEL1_20_5000)"
   ]
  },
  {
   "cell_type": "code",
   "execution_count": 41,
   "id": "366cb446-14ac-4758-b8a9-eb2248c9e3f6",
   "metadata": {},
   "outputs": [
    {
     "name": "stderr",
     "output_type": "stream",
     "text": [
      "Procesando DataFrames: 100%|██████████████████████████████████████████████| 100000/100000 [00:00<00:00, 1097097.90it/s]\n"
     ]
    }
   ],
   "source": [
    "PD_MODEL1_20_5000 = [(dic,df) for dic,df in reduced_pd if len(df)>20 and len(df)<5000]\n",
    "for dic, df in tqdm(reduced_pd, desc=\"Procesando DataFrames\"):\n",
    "    pass"
   ]
  },
  {
   "cell_type": "code",
   "execution_count": 49,
   "id": "7aadc936-ac75-4d93-94e9-57718a7aa08e",
   "metadata": {},
   "outputs": [
    {
     "name": "stdout",
     "output_type": "stream",
     "text": [
      "Archivo pickle reducido guardado en: C:\\Users\\Bruno Diaz\\OneDrive\\Escritorio\\TAMBO\\TI\\CORSIKA DATA\\100k Showers\\PD_MODEL1_20_5000.pickle\n"
     ]
    }
   ],
   "source": [
    "ruta_pickle_reduced =  r\"C:\\Users\\Bruno Diaz\\OneDrive\\Escritorio\\TAMBO\\TI\\CORSIKA DATA\\100k Showers\\PD_MODEL1_20_5000.pickle\"\n",
    "if os.path.exists(ruta_pickle_reduced):\n",
    "    os.remove(ruta_pickle_reduced)\n",
    "\n",
    "with open(ruta_pickle_reduced, 'wb') as f:\n",
    "    pickle.dump(PD_MODEL1_20_5000, f)\n",
    "\n",
    "print(\"Archivo pickle reducido guardado en:\", ruta_pickle_reduced)"
   ]
  }
 ],
 "metadata": {
  "kernelspec": {
   "display_name": "Python [conda env:base] *",
   "language": "python",
   "name": "conda-base-py"
  },
  "language_info": {
   "codemirror_mode": {
    "name": "ipython",
    "version": 3
   },
   "file_extension": ".py",
   "mimetype": "text/x-python",
   "name": "python",
   "nbconvert_exporter": "python",
   "pygments_lexer": "ipython3",
   "version": "3.12.3"
  }
 },
 "nbformat": 4,
 "nbformat_minor": 5
}
